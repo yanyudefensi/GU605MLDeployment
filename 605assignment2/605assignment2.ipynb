{
 "cells": [
  {
   "cell_type": "code",
   "execution_count": null,
   "metadata": {},
   "outputs": [],
   "source": [
    "import pandas as pd\n",
    "import numpy as np\n",
    "import seaborn as sns\n",
    "from matplotlib import rcParams\n",
    "import matplotlib.pyplot as plt\n",
    "import zipfile\n",
    "import urllib"
   ]
  }
 ],
 "metadata": {
  "kernelspec": {
   "display_name": "Python 3.9.12 ('base')",
   "language": "python",
   "name": "python3"
  },
  "language_info": {
   "name": "python",
   "version": "3.9.12"
  },
  "orig_nbformat": 4,
  "vscode": {
   "interpreter": {
    "hash": "2258e333c84b47b9a5a7982949ce5a85b85b67ad92f2984de8c1a397c1f5fbb8"
   }
  }
 },
 "nbformat": 4,
 "nbformat_minor": 2
}
